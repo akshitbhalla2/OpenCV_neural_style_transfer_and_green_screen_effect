{
 "cells": [
  {
   "cell_type": "code",
   "execution_count": null,
   "metadata": {},
   "outputs": [],
   "source": [
    "# Import Libraries\n",
    "\n",
    "\n",
    "# Generating Function\n",
    "\n",
    "\n",
    "    # Load Neural Style Transfer Model\n",
    "\n",
    "\n",
    "    # Resize to fix height. You can change it as you want\n",
    "\n",
    "\n",
    "    # Create our blob from the image\n",
    "    # Perform a forward pass run of the network\n",
    "\n",
    "\n",
    "    # Reshape the output Tensor,\n",
    "    # Add back the Mean Substruction\n",
    "    # Re-order the channels\n",
    "\n",
    "    \n",
    "# Open the Video\n",
    "# If you want to see yourself from your webcam\n",
    "# replace the string inside the parenthesis\n",
    "# with number 0\n",
    "# it should be: VideoCapture(0)\n",
    "\n",
    "\n",
    "\n",
    "# Our Style Transfers are:\n",
    "# la_muse, feathers, composition_vii, mosaic, the_scream, udnie, starry_night, candy, the_wave\n",
    "\n",
    "\n",
    "# While loop\n",
    "\n",
    "    # Read the frame\n",
    "    \n",
    "    # Display the output\n",
    "    \n",
    "    # Close the frame\n",
    "    \n",
    "    \n",
    "# Release and Destroy\n",
    "\n",
    "\n"
   ]
  },
  {
   "cell_type": "code",
   "execution_count": null,
   "metadata": {},
   "outputs": [],
   "source": []
  }
 ],
 "metadata": {
  "kernelspec": {
   "display_name": "Python 3",
   "language": "python",
   "name": "python3"
  },
  "language_info": {
   "codemirror_mode": {
    "name": "ipython",
    "version": 3
   },
   "file_extension": ".py",
   "mimetype": "text/x-python",
   "name": "python",
   "nbconvert_exporter": "python",
   "pygments_lexer": "ipython3",
   "version": "3.7.4"
  }
 },
 "nbformat": 4,
 "nbformat_minor": 2
}
