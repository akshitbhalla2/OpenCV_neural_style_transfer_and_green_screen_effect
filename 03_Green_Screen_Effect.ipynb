{
 "cells": [
  {
   "cell_type": "markdown",
   "metadata": {},
   "source": [
    "### Import Libraries"
   ]
  },
  {
   "cell_type": "code",
   "execution_count": null,
   "metadata": {},
   "outputs": [],
   "source": []
  },
  {
   "cell_type": "markdown",
   "metadata": {},
   "source": [
    "### Read - Display Image"
   ]
  },
  {
   "cell_type": "code",
   "execution_count": null,
   "metadata": {},
   "outputs": [],
   "source": [
    "# Read the image\n",
    "\n",
    "\n",
    "# Print the type of the image\n",
    "# The dimensions (height, width, color)\n",
    "# We'll nedd the dimensions later\n"
   ]
  },
  {
   "cell_type": "code",
   "execution_count": null,
   "metadata": {},
   "outputs": [],
   "source": [
    "# Make a copy of the image\n",
    "\n",
    "\n",
    "# Change the color from BGR to RGB\n",
    "\n",
    "\n",
    "\n",
    "# Display the image\n"
   ]
  },
  {
   "cell_type": "markdown",
   "metadata": {},
   "source": [
    "## Define Color Threshold"
   ]
  },
  {
   "cell_type": "code",
   "execution_count": 1,
   "metadata": {},
   "outputs": [],
   "source": [
    "# Isolate the Green Background\n",
    "# Try it by yourselves. Change the values to getyour best result!\n",
    "\n"
   ]
  },
  {
   "cell_type": "markdown",
   "metadata": {},
   "source": [
    "## Creat the Mask"
   ]
  },
  {
   "cell_type": "code",
   "execution_count": 2,
   "metadata": {},
   "outputs": [],
   "source": [
    "# Define the Masked Area\n",
    "\n",
    "\n",
    "# Visualize the Mask on the imgae\n"
   ]
  },
  {
   "cell_type": "code",
   "execution_count": 3,
   "metadata": {},
   "outputs": [],
   "source": [
    "# Mask the Image to let your object come and show through\n",
    "\n",
    "\n",
    "\n",
    "# Dispaly the Image\n"
   ]
  },
  {
   "cell_type": "markdown",
   "metadata": {},
   "source": [
    "## Mask and Add a Background Image"
   ]
  },
  {
   "cell_type": "code",
   "execution_count": 4,
   "metadata": {},
   "outputs": [],
   "source": [
    "# Load the Image Background\n",
    "\n",
    "\n",
    "# Convert it from BGR to RGB\n",
    "\n",
    "\n",
    "# Crop it to the the dimensions we got\n",
    "\n",
    "\n",
    "# Mask the Cropped Background\n",
    "# That's how the object's area is blocked\n",
    "\n",
    "\n",
    "# Display the Background\n"
   ]
  },
  {
   "cell_type": "markdown",
   "metadata": {},
   "source": [
    "## Let's move it"
   ]
  },
  {
   "cell_type": "code",
   "execution_count": null,
   "metadata": {},
   "outputs": [],
   "source": [
    "# x, y, h, w\n",
    "\n",
    "\n",
    "# Convert it from BGR to RGB\n",
    "\n",
    "\n",
    "# Crop it to the the dimensions we got\n",
    "\n",
    "\n",
    "# Mask the Cropped Background\n",
    "# That's how the object's area is blocked\n",
    "\n",
    "\n",
    "# Display the Background\n"
   ]
  },
  {
   "cell_type": "markdown",
   "metadata": {},
   "source": [
    "# Add them together and get the Final Image"
   ]
  },
  {
   "cell_type": "code",
   "execution_count": null,
   "metadata": {},
   "outputs": [],
   "source": [
    "# Add "
   ]
  }
 ],
 "metadata": {
  "kernelspec": {
   "display_name": "Python 3",
   "language": "python",
   "name": "python3"
  },
  "language_info": {
   "codemirror_mode": {
    "name": "ipython",
    "version": 3
   },
   "file_extension": ".py",
   "mimetype": "text/x-python",
   "name": "python",
   "nbconvert_exporter": "python",
   "pygments_lexer": "ipython3",
   "version": "3.7.4"
  }
 },
 "nbformat": 4,
 "nbformat_minor": 2
}
