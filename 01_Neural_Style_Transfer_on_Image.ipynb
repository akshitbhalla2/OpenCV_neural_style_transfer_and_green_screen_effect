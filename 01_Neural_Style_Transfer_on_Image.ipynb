{
 "cells": [
  {
   "cell_type": "code",
   "execution_count": null,
   "metadata": {},
   "outputs": [],
   "source": [
    "# Import Libraries\n",
    "\n",
    "\n",
    "\n",
    "# Load our Neural Transfer Models\n",
    "\n",
    "\n",
    "# Load our Test Image\n",
    "\n",
    "\n",
    "# Load our Transfer Style Model\n",
    "\n",
    "\n",
    "# Loop and Apply each Model Style our Test Image\n",
    "\n",
    "\n",
    "\n",
    "\n",
    "    # Load our Neural Transfer Style Model\n",
    "\n",
    "\n",
    "    # Resize it to fix height. You can change it as you want\n",
    "    \n",
    "    \n",
    "    \n",
    "\n",
    "    # Create our blob from the image\n",
    "    # Then perform a forward pass run of the network\n",
    "    # The Mean values for the ImageNet training set are R=103.93, G=116.77, B=123.68\n",
    "\n",
    "\n",
    "    \n",
    "    \n",
    "    # Reshape the output Tensor, \n",
    "    # add back the mean substruction,\n",
    "    # re-order the channels\n",
    "\n",
    "    \n",
    "    \n",
    "\n",
    "    # Display:\n",
    "    # 1. Original/Test Image\n",
    "    # 2. The Style of the Neural Transfer\n",
    "    # 3. Our result from them\n",
    "    \n",
    "    \n",
    "    \n",
    "    # Close everything\n",
    "    \n",
    "    \n",
    "    \n",
    "# Destroy All Windows\n",
    "\n",
    "\n"
   ]
  }
 ],
 "metadata": {
  "kernelspec": {
   "display_name": "Python 3",
   "language": "python",
   "name": "python3"
  },
  "language_info": {
   "codemirror_mode": {
    "name": "ipython",
    "version": 3
   },
   "file_extension": ".py",
   "mimetype": "text/x-python",
   "name": "python",
   "nbconvert_exporter": "python",
   "pygments_lexer": "ipython3",
   "version": "3.7.4"
  }
 },
 "nbformat": 4,
 "nbformat_minor": 2
}
